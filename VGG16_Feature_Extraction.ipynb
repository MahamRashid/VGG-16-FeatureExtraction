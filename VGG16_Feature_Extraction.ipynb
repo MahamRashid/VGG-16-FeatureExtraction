{
  "nbformat": 4,
  "nbformat_minor": 0,
  "metadata": {
    "colab": {
      "name": "VGG16 Feature Extraction.ipynb",
      "provenance": [],
      "collapsed_sections": [],
      "authorship_tag": "ABX9TyMi62/IfnmjQ01gUpCg/djH",
      "include_colab_link": true
    },
    "kernelspec": {
      "name": "python3",
      "display_name": "Python 3"
    },
    "language_info": {
      "name": "python"
    },
    "accelerator": "GPU"
  },
  "cells": [
    {
      "cell_type": "markdown",
      "metadata": {
        "id": "view-in-github",
        "colab_type": "text"
      },
      "source": [
        "<a href=\"https://colab.research.google.com/github/MahamRashid/VGG-16-FeatureExtraction/blob/main/VGG16_Feature_Extraction.ipynb\" target=\"_parent\"><img src=\"https://colab.research.google.com/assets/colab-badge.svg\" alt=\"Open In Colab\"/></a>"
      ]
    },
    {
      "cell_type": "markdown",
      "metadata": {
        "id": "wkBIZaV1mDgU"
      },
      "source": [
        "Loading Fruits Data"
      ]
    },
    {
      "cell_type": "code",
      "metadata": {
        "colab": {
          "base_uri": "https://localhost:8080/"
        },
        "id": "3rlhQ048mHLm",
        "outputId": "fd625866-08da-436d-da89-4cf3882a53f6"
      },
      "source": [
        "from google.colab import drive\n",
        "drive.mount('/content/drive')"
      ],
      "execution_count": 2,
      "outputs": [
        {
          "output_type": "stream",
          "name": "stdout",
          "text": [
            "Mounted at /content/drive\n"
          ]
        }
      ]
    },
    {
      "cell_type": "code",
      "metadata": {
        "colab": {
          "base_uri": "https://localhost:8080/"
        },
        "id": "6hCoKi00nR3A",
        "outputId": "72ac1ee8-8636-4889-b627-34717bcf40ee"
      },
      "source": [
        "cd /content/drive/MyDrive/Personal/Deep_Multi_Clustering/Dataset/fruits-360_dataset/fruits-360/"
      ],
      "execution_count": 8,
      "outputs": [
        {
          "output_type": "stream",
          "name": "stdout",
          "text": [
            "/content/drive/MyDrive/Personal/Deep_Multi_Clustering/Dataset/fruits-360_dataset/fruits-360\n"
          ]
        }
      ]
    },
    {
      "cell_type": "markdown",
      "metadata": {
        "id": "dFt9rRdiL4ew"
      },
      "source": [
        "Importing Libraries"
      ]
    },
    {
      "cell_type": "code",
      "metadata": {
        "id": "r--DlLWnL6HM"
      },
      "source": [
        "import cv2\n",
        "import numpy as np\n",
        "#import tensorflow as tf\n",
        "import os\n",
        "from keras.preprocessing.image import ImageDataGenerator\n",
        "from keras.layers import Dense,Flatten,Conv2D,Activation,Dropout\n",
        "from tensorflow.compat.v1.keras import backend as K\n",
        "import keras\n",
        "from keras.models import Sequential, Model\n",
        "from keras.models import load_model\n",
        "from tensorflow.keras.optimizers import SGD\n",
        "from keras.callbacks import EarlyStopping,ModelCheckpoint\n",
        "from keras.layers import MaxPool2D\n",
        "from google.colab.patches import cv2_imshow"
      ],
      "execution_count": 4,
      "outputs": []
    },
    {
      "cell_type": "code",
      "metadata": {
        "id": "my6dUOtSMZmG"
      },
      "source": [
        "#K.backend._get_available_gpus()"
      ],
      "execution_count": 6,
      "outputs": []
    },
    {
      "cell_type": "markdown",
      "metadata": {
        "id": "BbOZH7UamvPm"
      },
      "source": [
        "Defining training and test data paths"
      ]
    },
    {
      "cell_type": "code",
      "metadata": {
        "id": "BWDSW1ACmHlu"
      },
      "source": [
        "train_pth=\"/content/drive/MyDrive/Personal/Deep_Multi_Clustering/Dataset/fruits-360_dataset/fruits-360/Training\"\n",
        "test_pth=\"/content/drive/MyDrive/Personal/Deep_Multi_Clustering/Dataset/fruits-360_dataset/fruits-360/Test\"\n",
        "class_names=os.listdir(train_pth)\n",
        "class_names_test=os.listdir(test_pth)"
      ],
      "execution_count": 13,
      "outputs": []
    },
    {
      "cell_type": "code",
      "metadata": {
        "colab": {
          "base_uri": "https://localhost:8080/"
        },
        "id": "1618VYZsnUvb",
        "outputId": "bcf06222-86f4-44a2-933d-84a1882b53cd"
      },
      "source": [
        "print(class_names)\n",
        "print(class_names_test)"
      ],
      "execution_count": 14,
      "outputs": [
        {
          "output_type": "stream",
          "name": "stdout",
          "text": [
            "['Apple Golden 1', 'Apple Braeburn', 'Apple Golden 2', 'Apple Red 1', 'Apple Red 2', 'Apple Golden 3', 'Apple Granny Smith', 'Apple Red 3', 'Apricot', 'Avocado ripe', 'Apple Red Delicious', 'Avocado', 'Apple Red Yellow', 'Banana Red', 'Cactus fruit', 'Banana', 'Cantaloupe 1', 'Cantaloupe 2', 'Cherry Rainier', 'Cherry 1', 'Cherry Wax Black', 'Cherry 2', 'Carambula', 'Cocos', 'Clementine', 'Cherry Wax Red', 'Cherry Wax Yellow', 'Grapefruit Pink', 'Grape White 2', 'Grape Pink', 'Granadilla', 'Grape White', 'Dates', 'Guava', 'Kaki', 'Grapefruit White', 'Huckleberry', 'Kiwi', 'Kumquats', 'Lemon Meyer', 'Lemon', 'Limes', 'Lychee', 'Mango', 'Maracuja', 'Mandarine', 'Melon Piel de Sapo', 'Mulberry', 'Papaya', 'Nectarine', 'Orange', 'Passion Fruit', 'Peach', 'Pear Monster', 'Pear Abate', 'Pear', 'Peach Flat', 'Physalis', 'Pear Williams', 'Pineapple', 'Physalis with Husk', 'Pepino', 'Pineapple Mini', 'Pitahaya Red', 'Plum', 'Pomegranate', 'Quince', 'Tamarillo', 'Raspberry', 'Strawberry Wedge', 'Rambutan', 'Salak', 'Strawberry', 'Tomato 1', 'Tomato 3', 'Tomato 2', 'Tangelo', 'Walnut', 'Tomato 4', 'Tomato Maroon', 'Tomato Cherry Red']\n",
            "['Apple Red 1', 'Apple Golden 1', 'Apple Golden 2', 'Apple Golden 3', 'Apple Granny Smith', 'Apple Braeburn', 'Apple Red 2', 'Avocado', 'Apple Red 3', 'Apricot', 'Apple Red Delicious', 'Apple Red Yellow', 'Avocado ripe', 'Cantaloupe 2', 'Banana Red', 'Cantaloupe 1', 'Cactus fruit', 'Banana', 'Cherry Wax Black', 'Carambula', 'Cherry 1', 'Cherry Rainier', 'Cherry Wax Red', 'Cherry 2', 'Cocos', 'Dates', 'Granadilla', 'Clementine', 'Cherry Wax Yellow', 'Grape Pink', 'Grapefruit Pink', 'Grape White 2', 'Grape White', 'Grapefruit White', 'Kiwi', 'Kaki', 'Huckleberry', 'Guava', 'Limes', 'Lychee', 'Mandarine', 'Lemon Meyer', 'Kumquats', 'Lemon', 'Maracuja', 'Mulberry', 'Melon Piel de Sapo', 'Mango', 'Peach Flat', 'Passion Fruit', 'Papaya', 'Orange', 'Nectarine', 'Peach', 'Pear Abate', 'Pear Williams', 'Pear', 'Pear Monster', 'Pitahaya Red', 'Pineapple Mini', 'Physalis with Husk', 'Pepino', 'Pineapple', 'Physalis', 'Rambutan', 'Plum', 'Quince', 'Pomegranate', 'Raspberry', 'Salak', 'Strawberry', 'Tamarillo', 'Tangelo', 'Strawberry Wedge', 'Tomato 2', 'Tomato 1', 'Tomato 4', 'Tomato 3', 'Tomato Maroon', 'Walnut', 'Tomato Cherry Red']\n"
          ]
        }
      ]
    },
    {
      "cell_type": "markdown",
      "metadata": {
        "id": "pQEmc9bkp71w"
      },
      "source": [
        "Displaying image of an apple"
      ]
    },
    {
      "cell_type": "code",
      "metadata": {
        "colab": {
          "base_uri": "https://localhost:8080/",
          "height": 117
        },
        "id": "lCbXAxntnv5D",
        "outputId": "afa0bfec-ae08-4bcb-9bd4-7972bd134880"
      },
      "source": [
        "image_apple=cv2.imread(\"/content/drive/MyDrive/Personal/Deep_Multi_Clustering/Dataset/fruits-360_dataset/fruits-360/Training/Apple Braeburn/0_100.jpg\")\n",
        "cv2_imshow(image_apple)\n"
      ],
      "execution_count": 15,
      "outputs": [
        {
          "output_type": "display_data",
          "data": {
            "image/png": "[encoded data removed]",
            "text/plain": [
              "<PIL.Image.Image image mode=RGB size=100x100 at 0x7F959B455F10>"
            ]
          },
          "metadata": {}
        }
      ]
    },
    {
      "cell_type": "code",
      "metadata": {
        "id": "dx4VD5HDp6wh"
      },
      "source": [
        ""
      ],
      "execution_count": null,
      "outputs": []
    }
  ]
}